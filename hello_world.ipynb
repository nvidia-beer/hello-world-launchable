{
  "cells": [
    {
      "cell_type": "markdown",
      "metadata": {},
      "source": [
        "# Hello World Launchable 🚀\n",
        "\n",
        "Welcome to your Brev Launchable! This notebook will verify your GPU setup and CUDA installation.\n",
        "\n",
        "## What This Does\n",
        "\n",
        "This notebook runs `nvidia-smi` to display:\n",
        "- Available GPU(s)\n",
        "- CUDA version\n",
        "- Driver version\n",
        "- GPU memory and utilization\n",
        "\n",
        "Perfect for testing your Brev GPU instance!\n"
      ]
    },
    {
      "cell_type": "code",
      "execution_count": null,
      "metadata": {},
      "outputs": [],
      "source": [
        "!nvidia-smi\n"
      ]
    },
    {
      "cell_type": "markdown",
      "metadata": {},
      "source": [
        "## ✅ Success!\n",
        "\n",
        "If you see GPU information above, your Brev Launchable is working correctly!\n",
        "\n",
        "### Next Steps\n",
        "\n",
        "- Modify this notebook to run your own code\n",
        "- Install additional packages you need\n",
        "- Start building your GPU-accelerated applications\n",
        "\n",
        "For more examples, check out the [Brev Launchables Repository](https://github.com/brevdev/launchables)\n"
      ]
    }
  ],
  "metadata": {
    "language_info": {
      "name": "python"
    }
  },
  "nbformat": 4,
  "nbformat_minor": 2
}
